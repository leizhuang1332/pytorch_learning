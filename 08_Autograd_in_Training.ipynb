{
 "cells": [
  {
   "cell_type": "markdown",
   "id": "10e0f423",
   "metadata": {},
   "source": [
    "我们已经简要了解了自动求导的工作原理，但它在实际使用时会是什么样子呢？让我们定义一个小模型，并检查它在单个训练批次之后的变化。首先，定义一些常量、我们的模型以及一些输入和输出的替代项："
   ]
  },
  {
   "cell_type": "code",
   "execution_count": 15,
   "id": "b9cd8059",
   "metadata": {},
   "outputs": [
    {
     "name": "stdout",
     "output_type": "stream",
     "text": [
      "tensor([[-0.4517,  0.8055,  1.2638,  ...,  0.2466,  1.3601,  0.6728],\n",
      "        [ 0.9455,  0.0191, -0.7938,  ...,  0.5257, -0.0212, -1.7546],\n",
      "        [-2.1998,  0.4150, -1.2633,  ..., -0.3488, -0.1271,  0.7015],\n",
      "        ...,\n",
      "        [-2.1264,  1.0510, -0.7034,  ...,  0.2061,  0.1904,  1.4052],\n",
      "        [-2.2582, -1.0296,  0.3881,  ..., -0.1438, -1.1002,  1.5507],\n",
      "        [ 0.2572, -0.8941, -1.7708,  ...,  0.9145,  0.4288, -0.8288]]) tensor([[-0.1669, -1.5310, -0.4940, -0.2785,  2.1457,  0.1470,  1.4160,  0.2929,\n",
      "         -0.1113,  2.0991],\n",
      "        [ 0.0299, -0.7963,  0.4011, -0.8442,  1.0319,  0.3571,  0.9438, -1.5946,\n",
      "         -1.2612,  2.8205],\n",
      "        [-1.0454, -0.4214,  0.6213, -0.5689,  0.3092, -0.2154, -1.7659, -1.1801,\n",
      "         -1.7296, -1.0570],\n",
      "        [-0.2911, -0.2951,  0.8784, -0.0929,  0.5217, -0.8062,  1.2285,  0.3308,\n",
      "         -1.3082, -1.2791],\n",
      "        [ 1.7916,  1.0126, -1.1930, -0.9950,  0.4908, -0.2688, -1.0246, -0.2773,\n",
      "          1.4136,  0.4667],\n",
      "        [-1.1482, -0.2403, -0.0852,  0.5968, -1.6077,  0.7725, -0.8591,  0.6669,\n",
      "         -0.7146,  1.0846],\n",
      "        [ 1.2148, -0.7473,  0.0251,  0.3431, -0.7183, -0.2930,  0.7148, -1.2083,\n",
      "         -2.1586, -1.3941],\n",
      "        [-1.7664, -0.0374,  0.4782,  0.9479, -0.8053,  0.5854,  1.2403, -0.5132,\n",
      "          0.1092,  0.7453],\n",
      "        [ 0.2034, -0.1752,  1.1634, -0.3649,  1.2074, -0.9913,  0.6540,  1.1889,\n",
      "         -2.2170,  1.3034],\n",
      "        [ 0.2500,  0.3960, -0.7856, -0.3773,  0.6901, -0.8077, -0.8666, -2.3305,\n",
      "         -0.8374, -0.0507],\n",
      "        [ 0.6274, -0.3096,  0.2455, -0.6541,  0.6970, -1.2523,  0.7684,  0.2652,\n",
      "          1.0874, -1.1882],\n",
      "        [ 0.1432, -0.5794, -1.4943,  0.2963, -0.5778,  0.8988,  0.1902,  0.6102,\n",
      "          1.6798,  0.2179],\n",
      "        [ 0.4980, -0.1720,  1.1121, -1.8280, -0.1319, -0.8585, -1.4673, -1.6538,\n",
      "         -0.6363,  0.8430],\n",
      "        [-0.7664, -0.1609, -0.1723,  1.6160,  0.4687,  0.9271, -0.2946, -1.0025,\n",
      "         -0.5268,  0.5073],\n",
      "        [-1.9054, -1.6333,  1.2380, -0.1288, -0.7427, -1.1084, -0.3921,  1.0706,\n",
      "         -0.4766,  1.0875],\n",
      "        [ 0.2097,  0.4462,  1.3470,  0.0181, -0.4948,  0.5844, -0.1181, -0.9963,\n",
      "         -0.1447, -2.0981]])\n",
      "TinyModel(\n",
      "  (layer1): Linear(in_features=1000, out_features=100, bias=True)\n",
      "  (relu): ReLU()\n",
      "  (layer2): Linear(in_features=100, out_features=10, bias=True)\n",
      ")\n"
     ]
    }
   ],
   "source": [
    "import torch\n",
    "\n",
    "BATCH_SIZE = 16\n",
    "DIM_IN = 1000\n",
    "HIDDEN_SIZE = 100\n",
    "DIM_OUT = 10\n",
    "\n",
    "class TinyModel(torch.nn.Module):\n",
    "\n",
    "    def __init__(self):\n",
    "        super(TinyModel, self).__init__()\n",
    "\n",
    "        self.layer1 = torch.nn.Linear(DIM_IN, HIDDEN_SIZE)\n",
    "        self.relu = torch.nn.ReLU()\n",
    "        self.layer2 = torch.nn.Linear(HIDDEN_SIZE, DIM_OUT)\n",
    "\n",
    "    def forward(self, x):\n",
    "        x = self.layer1(x)\n",
    "        x = self.relu(x)\n",
    "        x = self.layer2(x)\n",
    "        return x\n",
    "\n",
    "some_input = torch.randn(BATCH_SIZE, DIM_IN, requires_grad=False)\n",
    "ideal_output = torch.randn(BATCH_SIZE, DIM_OUT, requires_grad=False)\n",
    "print(some_input, ideal_output)\n",
    "\n",
    "model = TinyModel()\n",
    "print(model)"
   ]
  },
  {
   "cell_type": "code",
   "execution_count": null,
   "id": "0708acdc",
   "metadata": {},
   "outputs": [
    {
     "name": "stdout",
     "output_type": "stream",
     "text": [
      "tensor([ 0.0999, -0.0094,  0.0643, -0.0948,  0.0137,  0.0808,  0.0927, -0.0529,\n",
      "        -0.0587,  0.0812], grad_fn=<SliceBackward0>)\n",
      "None\n"
     ]
    },
    {
     "ename": "",
     "evalue": "",
     "output_type": "error",
     "traceback": [
      "\u001b[1;31m在当前单元格或上一个单元格中执行代码时 Kernel 崩溃。\n",
      "\u001b[1;31m请查看单元格中的代码，以确定故障的可能原因。\n",
      "\u001b[1;31m单击<a href='https://aka.ms/vscodeJupyterKernelCrash'>此处</a>了解详细信息。\n",
      "\u001b[1;31m有关更多详细信息，请查看 Jupyter <a href='command:jupyter.viewOutput'>log</a>。"
     ]
    }
   ],
   "source": [
    "model.layer2.weight.requires_grad = True\n",
    "print(model.layer2.weight[0][0:10]) # just a small slice\n",
    "print(model.layer2.weight.grad)"
   ]
  },
  {
   "cell_type": "code",
   "execution_count": 13,
   "id": "a13c566a",
   "metadata": {},
   "outputs": [
    {
     "name": "stdout",
     "output_type": "stream",
     "text": [
      "tensor([[-1.6028e-01, -1.4254e-01,  3.4088e-01,  2.1120e-01,  2.6653e-01,\n",
      "          3.1831e-01,  1.0657e-01, -4.2870e-01,  3.1283e-01, -1.0202e-01],\n",
      "        [ 5.4637e-02, -1.0615e-01,  2.1667e-01,  1.3969e-02,  4.9250e-01,\n",
      "          1.5333e-01, -4.2216e-01, -8.5377e-02,  2.7756e-01,  2.2978e-01],\n",
      "        [-5.5558e-02,  2.5129e-02, -2.3543e-02,  1.8904e-01,  2.9002e-01,\n",
      "          5.0901e-02,  1.1447e-01, -2.4179e-01,  1.5651e-01,  1.0266e-01],\n",
      "        [-3.3176e-03,  6.4015e-05,  2.2084e-01,  4.1213e-02, -5.8534e-02,\n",
      "          8.5144e-02, -1.9813e-01, -1.9020e-01, -1.7577e-01,  3.4645e-01],\n",
      "        [ 1.0792e-02, -5.5817e-02,  6.3418e-01,  3.3974e-01,  1.7913e-01,\n",
      "         -6.1391e-02, -1.4051e-01, -2.7041e-01,  1.3786e-01,  1.4114e-01],\n",
      "        [-9.7367e-02, -1.2809e-01,  7.0580e-01,  2.8596e-01,  1.1787e-01,\n",
      "          3.7970e-01, -1.6863e-01, -3.9833e-01,  1.7485e-01,  3.0770e-01],\n",
      "        [ 2.9676e-01, -4.5516e-02,  3.3812e-01,  2.2322e-01,  3.4246e-02,\n",
      "         -1.0658e-01, -4.3172e-01, -7.1311e-02,  3.9338e-02,  2.0305e-01],\n",
      "        [-2.7016e-01,  6.9985e-02,  1.5278e-01,  2.5638e-01,  5.6724e-02,\n",
      "          4.4737e-01, -1.2842e-02, -2.4378e-01, -2.8233e-01,  1.0672e-02],\n",
      "        [ 7.4828e-02, -9.0708e-02,  1.7822e-01, -5.8247e-01,  2.7191e-01,\n",
      "         -3.4579e-02, -1.7913e-01, -4.3071e-01,  2.2863e-01,  1.1069e-01],\n",
      "        [-1.2400e-01, -5.2883e-01,  2.1947e-01, -4.6610e-02,  1.9423e-01,\n",
      "         -9.0540e-02, -6.3066e-01, -4.8112e-02,  4.1000e-01,  3.8387e-01],\n",
      "        [-1.5676e-01, -1.4929e-01,  3.5488e-01, -2.2069e-01,  1.7447e-01,\n",
      "          4.7464e-01, -1.5664e-01, -3.0930e-01,  1.4416e-01,  4.7137e-02],\n",
      "        [-2.6907e-01, -2.5364e-01,  4.4643e-01,  2.2832e-01,  1.7777e-01,\n",
      "          4.3412e-01, -2.0377e-02, -1.1048e-01,  2.5098e-03,  2.7372e-01],\n",
      "        [-5.3657e-01, -1.5147e-01,  5.5082e-01, -4.9125e-02, -2.4920e-01,\n",
      "          2.7532e-01, -3.1441e-01, -3.2307e-01,  4.8501e-02, -2.6301e-02],\n",
      "        [-1.0207e-01, -2.9364e-01,  4.4411e-01, -1.3991e-01,  1.2327e-01,\n",
      "          2.2851e-01, -1.2318e-01, -1.6035e-01, -1.0790e-01,  3.8479e-01],\n",
      "        [ 1.2729e-01, -4.0364e-02,  2.4370e-01,  2.4199e-01,  3.0569e-01,\n",
      "         -5.9821e-02, -2.6893e-01, -3.2724e-01,  2.8998e-01,  3.6023e-01],\n",
      "        [-1.4072e-01, -1.9077e-01,  2.4290e-01, -5.9042e-03, -1.6445e-02,\n",
      "          3.8703e-01, -2.9107e-01, -2.0903e-01,  1.4878e-01, -1.0398e-01]],\n",
      "       grad_fn=<AddmmBackward0>)\n",
      "tensor(151.9833, grad_fn=<SumBackward0>)\n"
     ]
    }
   ],
   "source": [
    "optimizer = torch.optim.SGD(model.parameters(), lr=0.001)\n",
    "\n",
    "prediction = model(some_input)\n",
    "print(prediction)  # just a small slice\n",
    "\n",
    "loss = (ideal_output - prediction).pow(2).sum()\n",
    "print(loss)"
   ]
  },
  {
   "cell_type": "code",
   "execution_count": 5,
   "id": "ed762f3c",
   "metadata": {},
   "outputs": [
    {
     "name": "stdout",
     "output_type": "stream",
     "text": [
      "tensor([ 0.0144, -0.0668,  0.0679,  0.0963,  0.0944,  0.0809, -0.0991,  0.0250,\n",
      "         0.0481, -0.0958], grad_fn=<SliceBackward0>)\n",
      "tensor([ 1.0759, -1.2435, -6.2087, -6.4404, -1.9673, -1.4760, -2.8918, -1.9802,\n",
      "        -1.7162, -2.4007])\n"
     ]
    }
   ],
   "source": [
    "loss.backward()\n",
    "print(model.layer2.weight[0][0:10])\n",
    "print(model.layer2.weight.grad[0][0:10])"
   ]
  },
  {
   "cell_type": "code",
   "execution_count": 10,
   "id": "63032da2",
   "metadata": {},
   "outputs": [
    {
     "name": "stdout",
     "output_type": "stream",
     "text": [
      "tensor([0., 0., 0., 0., 0., 0., 0., 0., 0., 0.])\n",
      "tensor([  5.3793,  -6.2173, -31.0437, -32.2019,  -9.8364,  -7.3798, -14.4591,\n",
      "         -9.9010,  -8.5810, -12.0037])\n",
      "tensor([0., 0., 0., 0., 0., 0., 0., 0., 0., 0.])\n"
     ]
    }
   ],
   "source": [
    "print(model.layer2.weight.grad[0][0:10])\n",
    "\n",
    "for i in range(0, 5):\n",
    "    prediction = model(some_input)\n",
    "    loss = (ideal_output - prediction).pow(2).sum()\n",
    "    loss.backward()\n",
    "\n",
    "print(model.layer2.weight.grad[0][0:10])\n",
    "\n",
    "optimizer.zero_grad(set_to_none=False)\n",
    "\n",
    "print(model.layer2.weight.grad[0][0:10])"
   ]
  },
  {
   "cell_type": "code",
   "execution_count": 12,
   "id": "726da62d",
   "metadata": {},
   "outputs": [
    {
     "name": "stdout",
     "output_type": "stream",
     "text": [
      "tensor([[1., 1., 1.],\n",
      "        [1., 1., 1.]])\n",
      "tensor([[2., 2., 2.],\n",
      "        [2., 2., 2.]])\n",
      "tensor([[2., 2., 2.],\n",
      "        [2., 2., 2.]])\n"
     ]
    }
   ],
   "source": [
    "a = torch.ones(2, 3, requires_grad=False)\n",
    "print(a)\n",
    "\n",
    "b1 = 2 * a\n",
    "print(b1)\n",
    "\n",
    "a.requires_grad = False\n",
    "b2 = 2 * a\n",
    "print(b2)"
   ]
  }
 ],
 "metadata": {
  "kernelspec": {
   "display_name": "pytorch_learning",
   "language": "python",
   "name": "python3"
  },
  "language_info": {
   "codemirror_mode": {
    "name": "ipython",
    "version": 3
   },
   "file_extension": ".py",
   "mimetype": "text/x-python",
   "name": "python",
   "nbconvert_exporter": "python",
   "pygments_lexer": "ipython3",
   "version": "3.13.2"
  }
 },
 "nbformat": 4,
 "nbformat_minor": 5
}
