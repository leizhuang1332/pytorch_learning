{
 "cells": [
  {
   "cell_type": "markdown",
   "id": "52a0b956",
   "metadata": {},
   "source": [
    "## 使用 torch.autograd 自动区分#\n",
    "创建时间： 2021 年 2 月 10 日 |上次更新时间：2024 年 1 月 16 日 |上次验证： Nov 05， 2024\n",
    "\n",
    "在训练神经网络时，最常用的算法是 反向传播 。在此算法中，参数（模型权重）根据损失函数相对于给定参数的梯度进行调整。\n",
    "\n",
    "为了计算这些梯度，PyTorch 有一个名为 torch.autograd 的内置微分引擎。它支持任何计算图的梯度自动计算。\n",
    "\n",
    "考虑最简单的单层神经网络，其中包含输入 x、参数 w 和 b 以及一些损失函数。可以在 PyTorch 中按以下方式定义它：\n",
    "\n"
   ]
  },
  {
   "cell_type": "code",
   "execution_count": null,
   "id": "55478752",
   "metadata": {},
   "outputs": [
    {
     "name": "stdout",
     "output_type": "stream",
     "text": [
      "x: tensor([1., 1., 1., 1., 1.]),\n",
      "y: tensor([0., 0., 0.])\n"
     ]
    },
    {
     "ename": "",
     "evalue": "",
     "output_type": "error",
     "traceback": [
      "\u001b[1;31m在当前单元格或上一个单元格中执行代码时 Kernel 崩溃。\n",
      "\u001b[1;31m请查看单元格中的代码，以确定故障的可能原因。\n",
      "\u001b[1;31m单击<a href='https://aka.ms/vscodeJupyterKernelCrash'>此处</a>了解详细信息。\n",
      "\u001b[1;31m有关更多详细信息，请查看 Jupyter <a href='command:jupyter.viewOutput'>log</a>。"
     ]
    }
   ],
   "source": [
    "import torch\n",
    "\n",
    "x = torch.ones(5)  # input tensor\n",
    "y = torch.zeros(3)  # expected output\n",
    "print(f\"x: {x},\\ny: {y}\")"
   ]
  },
  {
   "cell_type": "code",
   "execution_count": null,
   "id": "fc8c37ad",
   "metadata": {},
   "outputs": [
    {
     "name": "stdout",
     "output_type": "stream",
     "text": [
      "w: tensor([[ 1.2828,  0.0374, -0.3987],\n",
      "        [-0.3069, -0.0065,  0.2534],\n",
      "        [-0.0264,  1.8649, -0.0342],\n",
      "        [-1.2278,  0.2466, -1.1349],\n",
      "        [ 0.7971, -0.3001, -0.3748]], requires_grad=True),\n",
      "b: tensor([ 0.2504, -0.5290,  0.3083], requires_grad=True)\n"
     ]
    }
   ],
   "source": [
    "\n",
    "w = torch.randn(5, 3, requires_grad=True)\n",
    "b = torch.randn(3, requires_grad=True)\n",
    "print(f\"w: {w},\\nb: {b}\")"
   ]
  },
  {
   "cell_type": "markdown",
   "id": "887c0662",
   "metadata": {},
   "source": [
    "## 计算梯度#\n",
    "为了优化神经网络中参数的权重，我们需要 计算我们的损失函数关于参数的导数， 即，我们需要 \n",
    "∂loss/∂w 并且 ∂loss/∂b 在 一些 固定 值 下 x 和 y。为了计算这些导数，我们调用 loss.backward（）， 然后从 w.grad 和 学士 ："
   ]
  },
  {
   "cell_type": "code",
   "execution_count": null,
   "id": "8339fea0",
   "metadata": {},
   "outputs": [
    {
     "name": "stdout",
     "output_type": "stream",
     "text": [
      "z: tensor([-6.6991, -6.6982, -6.7060], grad_fn=<AddBackward0>)\n",
      "loss: 0.0012288093566894531\n",
      "w.grad: tensor([[0.0004, 0.0004, 0.0004],\n",
      "        [0.0004, 0.0004, 0.0004],\n",
      "        [0.0004, 0.0004, 0.0004],\n",
      "        [0.0004, 0.0004, 0.0004],\n",
      "        [0.0004, 0.0004, 0.0004]])\n",
      "b.grad: tensor([0.0004, 0.0004, 0.0004])\n",
      "w: tensor([[ 0.0377, -1.2983, -1.2866],\n",
      "        [-1.5520, -1.3422, -0.6345],\n",
      "        [-1.2716,  0.5292, -0.9221],\n",
      "        [-2.4729, -1.0891, -2.0228],\n",
      "        [-0.4481, -1.6357, -1.2627]], requires_grad=True)\n",
      "b: tensor([-0.9947, -1.8646, -0.5796], requires_grad=True)\n"
     ]
    },
    {
     "data": {
      "text/plain": [
       "tensor([0., 0., 0.])"
      ]
     },
     "execution_count": 1611,
     "metadata": {},
     "output_type": "execute_result"
    }
   ],
   "source": [
    "# 前向传播\n",
    "z = torch.matmul(x, w)+b\n",
    "print(f\"z: {z}\")\n",
    "# 计算损失\n",
    "loss = torch.nn.functional.binary_cross_entropy_with_logits(z, y)\n",
    "print(f\"loss: {loss}\")\n",
    "\n",
    "# 反向传播，计算梯度\n",
    "loss.backward()\n",
    "print(f\"w.grad: {w.grad}\")\n",
    "print(f\"b.grad: {b.grad}\")\n",
    "\n",
    "# 初始化梯度优化器，用来决定如何更新参数。\n",
    "# SGD：随机梯度优化\n",
    "# (w, b)：传入要优化的参数\n",
    "# lr：学习率\n",
    "optimizer = torch.optim.SGD((w, b), lr=0.01)\n",
    "# 更新参数\n",
    "optimizer.step()\n",
    "print(f\"w: {w}\")\n",
    "print(f\"b: {b}\")\n",
    "\n",
    "w.grad.zero_()\n",
    "b.grad.zero_()"
   ]
  },
  {
   "cell_type": "markdown",
   "id": "7c27a466",
   "metadata": {},
   "source": [
    "## 可选读数：张量梯度和雅可比积"
   ]
  },
  {
   "cell_type": "code",
   "execution_count": 1634,
   "id": "6b03388d",
   "metadata": {},
   "outputs": [
    {
     "name": "stdout",
     "output_type": "stream",
     "text": [
      "First call\n",
      "tensor([[4., 2., 2., 2., 2.],\n",
      "        [2., 4., 2., 2., 2.],\n",
      "        [2., 2., 4., 2., 2.],\n",
      "        [2., 2., 2., 4., 2.]])\n",
      "\n",
      "Second call\n",
      "tensor([[8., 4., 4., 4., 4.],\n",
      "        [4., 8., 4., 4., 4.],\n",
      "        [4., 4., 8., 4., 4.],\n",
      "        [4., 4., 4., 8., 4.]])\n",
      "\n",
      "Call after zeroing gradients\n",
      "tensor([[4., 2., 2., 2., 2.],\n",
      "        [2., 4., 2., 2., 2.],\n",
      "        [2., 2., 4., 2., 2.],\n",
      "        [2., 2., 2., 4., 2.]])\n"
     ]
    }
   ],
   "source": [
    "inp = torch.eye(4, 5, requires_grad=True)\n",
    "out = (inp+1).pow(2).t()\n",
    "\n",
    "out.backward(torch.ones_like(out), retain_graph=True)\n",
    "print(f\"First call\\n{inp.grad}\")\n",
    "out.backward(torch.ones_like(out), retain_graph=True)\n",
    "print(f\"\\nSecond call\\n{inp.grad}\")\n",
    "inp.grad.zero_()\n",
    "out.backward(torch.ones_like(out), retain_graph=True)\n",
    "print(f\"\\nCall after zeroing gradients\\n{inp.grad}\")"
   ]
  },
  {
   "cell_type": "markdown",
   "id": "3db15be2",
   "metadata": {},
   "source": [
    "请注意，当我们使用相同的参数第二次向后调用时，梯度的值是不同的。发生这种情况是因为在进行向后传播时，PyTorch 会累积梯度 ，即计算的梯度值被添加到 grad 属性。 如果要计算正确的梯度，则需要将 grad 归零 属性之前。在现实生活中的训练中， 优化器可以帮助我们做到这一点。"
   ]
  },
  {
   "cell_type": "markdown",
   "id": "cbe0246f",
   "metadata": {},
   "source": []
  }
 ],
 "metadata": {
  "kernelspec": {
   "display_name": "pytorch_learning",
   "language": "python",
   "name": "python3"
  },
  "language_info": {
   "codemirror_mode": {
    "name": "ipython",
    "version": 3
   },
   "file_extension": ".py",
   "mimetype": "text/x-python",
   "name": "python",
   "nbconvert_exporter": "python",
   "pygments_lexer": "ipython3",
   "version": "3.13.2"
  }
 },
 "nbformat": 4,
 "nbformat_minor": 5
}
