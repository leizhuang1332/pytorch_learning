{
 "cells": [
  {
   "cell_type": "code",
   "execution_count": null,
   "id": "d176b8a7",
   "metadata": {},
   "outputs": [],
   "source": []
  }
 ],
 "metadata": {
  "language_info": {
   "name": "python"
  }
 },
 "nbformat": 4,
 "nbformat_minor": 5
}
