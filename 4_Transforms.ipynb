{
 "cells": [
  {
   "cell_type": "markdown",
   "id": "239c6220",
   "metadata": {},
   "source": [
    "数据并不总是以训练机器学习算法所需的最终处理形式出现。我们使用转换对数据进行一些操作，使其适合训练。"
   ]
  },
  {
   "cell_type": "code",
   "execution_count": 1,
   "id": "e6cec909",
   "metadata": {},
   "outputs": [],
   "source": [
    "import torch\n",
    "from torchvision import datasets\n",
    "from torchvision.transforms import ToTensor, Lambda\n",
    "\n",
    "ds = datasets.FashionMNIST(\n",
    "    root=\"data\", # 数据存放的位置\n",
    "    train=True, # 训练数据\n",
    "    download=True, # 如果数据在 root 中不可用，则下载数据。\n",
    "    transform=ToTensor(), # 指定转换器\n",
    "    target_transform=Lambda(lambda y: torch.zeros(10, dtype=torch.float).scatter_(0, torch.tensor(y), value=1))\n",
    ")"
   ]
  },
  {
   "cell_type": "markdown",
   "id": "25372959",
   "metadata": {},
   "source": [
    "## ToTensor()\n",
    "ToTensor 将 PIL 图像或 NumPy ndarray 转换为 FloatTensor。并在 [0.， 1.] 范围内缩放图像的像素强度值"
   ]
  },
  {
   "cell_type": "markdown",
   "id": "3b51555d",
   "metadata": {},
   "source": [
    "## Lambda 变换\n",
    "Lambda 转换应用任何用户定义的 lambda 函数。在这里，我们定义一个函数 将整数转换为单热编码张量。 它首先创建一个大小为 10（我们数据集中的标签数量）的零张量，然后调用 scatter_，它分配了一个 value=1 在标签 y 给出的索引上。"
   ]
  },
  {
   "cell_type": "code",
   "execution_count": 2,
   "id": "2b540ced",
   "metadata": {},
   "outputs": [],
   "source": [
    "target_transform = Lambda(lambda y: torch.zeros(\n",
    "    10, dtype=torch.float).scatter_(dim=0, index=torch.tensor(y), value=1))"
   ]
  },
  {
   "cell_type": "code",
   "execution_count": null,
   "id": "7ecf7ebc",
   "metadata": {},
   "outputs": [],
   "source": [
    "\n"
   ]
  }
 ],
 "metadata": {
  "kernelspec": {
   "display_name": "pytorch-learning",
   "language": "python",
   "name": "python3"
  },
  "language_info": {
   "codemirror_mode": {
    "name": "ipython",
    "version": 3
   },
   "file_extension": ".py",
   "mimetype": "text/x-python",
   "name": "python",
   "nbconvert_exporter": "python",
   "pygments_lexer": "ipython3",
   "version": "3.13.2"
  }
 },
 "nbformat": 4,
 "nbformat_minor": 5
}
